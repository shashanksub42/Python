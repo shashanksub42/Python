{
 "cells": [
  {
   "cell_type": "code",
   "execution_count": 2,
   "metadata": {},
   "outputs": [],
   "source": [
    "#Horses cost $10, pigs cost $3 and rabbits cost $0.5\n",
    "#Farmer buys 100 animals for $100.\n",
    "#How many of each animal did he buy?"
   ]
  },
  {
   "cell_type": "code",
   "execution_count": 10,
   "metadata": {},
   "outputs": [],
   "source": [
    "def animals(no_of_animals, money):\n",
    "    for horses in range(no_of_animals):\n",
    "        for pigs in range(no_of_animals):\n",
    "            for rabbits in range(no_of_animals):\n",
    "                \n",
    "                cost = 10*horses + 3*pigs + 0.5*rabbits\n",
    "                total_animals = horses + pigs + rabbits\n",
    "                \n",
    "                if (total_animals == no_of_animals and cost == money):\n",
    "                    print(\"Farmer bought {} horse(s), {} pig(s) and {} rabbit(s)\".format(horses, pigs, rabbits))"
   ]
  },
  {
   "cell_type": "code",
   "execution_count": 15,
   "metadata": {},
   "outputs": [
    {
     "name": "stdout",
     "output_type": "stream",
     "text": [
      "Farmer bought 0 horse(s), 20 pig(s) and 80 rabbit(s)\n",
      "Farmer bought 5 horse(s), 1 pig(s) and 94 rabbit(s)\n"
     ]
    }
   ],
   "source": [
    "animals(100, 100)"
   ]
  },
  {
   "cell_type": "code",
   "execution_count": null,
   "metadata": {},
   "outputs": [],
   "source": []
  }
 ],
 "metadata": {
  "kernelspec": {
   "display_name": "Python 3",
   "language": "python",
   "name": "python3"
  },
  "language_info": {
   "codemirror_mode": {
    "name": "ipython",
    "version": 3
   },
   "file_extension": ".py",
   "mimetype": "text/x-python",
   "name": "python",
   "nbconvert_exporter": "python",
   "pygments_lexer": "ipython3",
   "version": "3.7.4"
  }
 },
 "nbformat": 4,
 "nbformat_minor": 2
}
